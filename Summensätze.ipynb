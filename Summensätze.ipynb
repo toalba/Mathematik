{
 "cells": [
  {
   "cell_type": "markdown",
   "metadata": {},
   "source": [
    "# Summensätze"
   ]
  },
  {
   "cell_type": "markdown",
   "metadata": {},
   "source": [
    "## 1.Summensätze\n",
    "\n",
    "- $sin(\\alpha\\pm\\beta)=sin(\\alpha)cos(\\beta)\\pm cos(\\alpha)sin(\\beta)$\n",
    "\n",
    "- $cos(\\alpha\\pm\\beta)=cos(\\alpha)cos(\\beta)\\pm sin(\\alpha)sin(\\beta)$\n",
    "\n",
    "- $tan(\\alpha\\pm\\beta)=\\frac{tan(\\alpha)\\pm tan(\\beta)}{1\\mp tan(\\alpha)tan(\\beta)}$"
   ]
  },
  {
   "cell_type": "markdown",
   "metadata": {},
   "source": [
    "## 2.Summensätze\n",
    "\n",
    "- $sin(\\alpha)+sin(\\beta)=2sin(\\frac{\\alpha+\\beta}{2})*cos(\\frac{\\alpha-\\beta}{2})$\n",
    "\n",
    "- $sin(\\alpha)-sin(\\beta)=2cos(\\frac{\\alpha+\\beta}{2})*sin(\\frac{\\alpha-\\beta}{2})$\n",
    "\n",
    "- $cos(\\alpha)+cos(\\beta)=2cos(\\frac{\\alpha+\\beta}{2})*cos(\\frac{\\alpha-\\beta}{2})$\n",
    "\n",
    "- $cos(\\alpha)-cos(\\beta)=-2sin(\\frac{\\alpha+\\beta}{2})*sin(\\frac{\\alpha-\\beta}{2})$\n"
   ]
  }
 ],
 "metadata": {
  "kernelspec": {
   "display_name": "Python 3",
   "language": "python",
   "name": "python3"
  },
  "language_info": {
   "codemirror_mode": {
    "name": "ipython",
    "version": 3
   },
   "file_extension": ".py",
   "mimetype": "text/x-python",
   "name": "python",
   "nbconvert_exporter": "python",
   "pygments_lexer": "ipython3",
   "version": "3.5.3"
  }
 },
 "nbformat": 4,
 "nbformat_minor": 2
}
